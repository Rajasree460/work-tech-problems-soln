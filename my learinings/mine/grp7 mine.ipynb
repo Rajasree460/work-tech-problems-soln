{
 "cells": [
  {
   "cell_type": "code",
   "execution_count": 2,
   "id": "8c89031d-0156-4f02-a7f2-fc5386c386ba",
   "metadata": {},
   "outputs": [
    {
     "name": "stdout",
     "output_type": "stream",
     "text": [
      "   Nature  Learning_rate  F1_score\n",
      "0  linear            0.1  0.979622\n",
      "1  linear            0.3  0.979622\n",
      "2  linear            0.5  0.979622\n",
      "3    poly            0.1  0.983281\n",
      "4    poly            0.3  0.988881\n",
      "5    poly            0.5  0.990741\n",
      "6     rbf            0.1  0.959159\n",
      "7     rbf            0.3  0.979545\n",
      "8     rbf            0.5  0.983305\n"
     ]
    }
   ],
   "source": [
    "#  Using the Optical Recognition of Handwritten Disease database, suppose the SVM\n",
    "#  classifier gives better performance. Create a table with the following structure:\n",
    "# | Nature  | Learning Rate | F1 Score |\n",
    "# |---------|---------------|----------|\n",
    "# | Linear  | 0.1           | -        |\n",
    "# |         | 0.3           | -        |\n",
    "# |         | 0.5           | -        |\n",
    "# | Poly    | 0.1           | -        |\n",
    "# |         | 0.3           | -        |\n",
    "# |         | 0.5           | -        |\n",
    "# | Radial  | 0.1           | -        |\n",
    "# |         | 0.3           | -        |\n",
    "# |         | 0.5           | -        |\n",
    "# Justify the best nature of the SVM classifier for this database\n",
    "\n",
    "\n",
    "# Import necessary libraries\n",
    "from sklearn import datasets\n",
    "from sklearn.model_selection import train_test_split\n",
    "from sklearn.svm import SVC\n",
    "from sklearn.metrics import f1_score\n",
    "import pandas as pd\n",
    "\n",
    "# Load the dataset\n",
    "digits = datasets.load_digits()\n",
    "X, y = digits.data, digits.target\n",
    "\n",
    "# Split the data into training and testing sets\n",
    "X_train, X_test, y_train, y_test = train_test_split(X, y, test_size=0.3, random_state=42)\n",
    "\n",
    "# Define kernel types and C (learning_rate) values\n",
    "kernels = ['linear', 'poly', 'rbf']\n",
    "C_values = [0.1, 0.3, 0.5]\n",
    "results = []\n",
    "\n",
    "# Train and evaluate the model for each kernel and C value\n",
    "for kernel in kernels:\n",
    "    for C in C_values:\n",
    "        svm = SVC(kernel=kernel, C=C)\n",
    "        svm.fit(X_train, y_train)\n",
    "        \n",
    "        # Predict and evaluate the model\n",
    "        y_pred = svm.predict(X_test)\n",
    "        f1 = f1_score(y_test, y_pred, average='weighted')\n",
    "        \n",
    "        # Append results\n",
    "        results.append({'Nature': kernel, 'Learning_rate': C, 'F1_score': f1})\n",
    "\n",
    "# Create a DataFrame to display results in tabular format\n",
    "results_df = pd.DataFrame(results)\n",
    "print(results_df)\n"
   ]
  },
  {
   "cell_type": "code",
   "execution_count": null,
   "id": "b6cfaa72-6f34-456d-aa5f-c706e5dee54f",
   "metadata": {},
   "outputs": [],
   "source": []
  }
 ],
 "metadata": {
  "kernelspec": {
   "display_name": "Python 3 (ipykernel)",
   "language": "python",
   "name": "python3"
  },
  "language_info": {
   "codemirror_mode": {
    "name": "ipython",
    "version": 3
   },
   "file_extension": ".py",
   "mimetype": "text/x-python",
   "name": "python",
   "nbconvert_exporter": "python",
   "pygments_lexer": "ipython3",
   "version": "3.12.4"
  }
 },
 "nbformat": 4,
 "nbformat_minor": 5
}
