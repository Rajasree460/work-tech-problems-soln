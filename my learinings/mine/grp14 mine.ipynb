{
 "cells": [
  {
   "cell_type": "code",
   "execution_count": 1,
   "id": "15e144fd-4293-439f-a73e-13d2869c4b0e",
   "metadata": {},
   "outputs": [
    {
     "name": "stderr",
     "output_type": "stream",
     "text": [
      "C:\\Users\\HP\\anaconda3\\Lib\\site-packages\\keras\\src\\layers\\core\\dense.py:87: UserWarning: Do not pass an `input_shape`/`input_dim` argument to a layer. When using Sequential models, prefer using an `Input(shape)` object as the first layer in the model instead.\n",
      "  super().__init__(activity_regularizer=activity_regularizer, **kwargs)\n"
     ]
    },
    {
     "name": "stdout",
     "output_type": "stream",
     "text": [
      "\u001b[1m179/179\u001b[0m \u001b[32m━━━━━━━━━━━━━━━━━━━━\u001b[0m\u001b[37m\u001b[0m \u001b[1m1s\u001b[0m 3ms/step\n",
      "Activation Function: sigmoid\n",
      "Accuracy: 0.8444\n",
      "              precision    recall  f1-score   support\n",
      "\n",
      "           g       0.85      0.93      0.89      3700\n",
      "           h       0.83      0.69      0.76      2006\n",
      "\n",
      "    accuracy                           0.84      5706\n",
      "   macro avg       0.84      0.81      0.82      5706\n",
      "weighted avg       0.84      0.84      0.84      5706\n",
      "\n",
      "==================================================\n"
     ]
    },
    {
     "name": "stderr",
     "output_type": "stream",
     "text": [
      "C:\\Users\\HP\\anaconda3\\Lib\\site-packages\\keras\\src\\layers\\core\\dense.py:87: UserWarning: Do not pass an `input_shape`/`input_dim` argument to a layer. When using Sequential models, prefer using an `Input(shape)` object as the first layer in the model instead.\n",
      "  super().__init__(activity_regularizer=activity_regularizer, **kwargs)\n"
     ]
    },
    {
     "name": "stdout",
     "output_type": "stream",
     "text": [
      "\u001b[1m179/179\u001b[0m \u001b[32m━━━━━━━━━━━━━━━━━━━━\u001b[0m\u001b[37m\u001b[0m \u001b[1m1s\u001b[0m 4ms/step\n",
      "Activation Function: tanh\n",
      "Accuracy: 0.8696\n",
      "              precision    recall  f1-score   support\n",
      "\n",
      "           g       0.88      0.92      0.90      3700\n",
      "           h       0.84      0.78      0.81      2006\n",
      "\n",
      "    accuracy                           0.87      5706\n",
      "   macro avg       0.86      0.85      0.85      5706\n",
      "weighted avg       0.87      0.87      0.87      5706\n",
      "\n",
      "==================================================\n"
     ]
    },
    {
     "name": "stderr",
     "output_type": "stream",
     "text": [
      "C:\\Users\\HP\\anaconda3\\Lib\\site-packages\\keras\\src\\layers\\core\\dense.py:87: UserWarning: Do not pass an `input_shape`/`input_dim` argument to a layer. When using Sequential models, prefer using an `Input(shape)` object as the first layer in the model instead.\n",
      "  super().__init__(activity_regularizer=activity_regularizer, **kwargs)\n"
     ]
    },
    {
     "name": "stdout",
     "output_type": "stream",
     "text": [
      "\u001b[1m179/179\u001b[0m \u001b[32m━━━━━━━━━━━━━━━━━━━━\u001b[0m\u001b[37m\u001b[0m \u001b[1m1s\u001b[0m 3ms/step\n",
      "Activation Function: relu\n",
      "Accuracy: 0.8728\n",
      "              precision    recall  f1-score   support\n",
      "\n",
      "           g       0.88      0.93      0.90      3700\n",
      "           h       0.86      0.77      0.81      2006\n",
      "\n",
      "    accuracy                           0.87      5706\n",
      "   macro avg       0.87      0.85      0.86      5706\n",
      "weighted avg       0.87      0.87      0.87      5706\n",
      "\n",
      "==================================================\n"
     ]
    },
    {
     "name": "stderr",
     "output_type": "stream",
     "text": [
      "C:\\Users\\HP\\anaconda3\\Lib\\site-packages\\keras\\src\\layers\\core\\dense.py:87: UserWarning: Do not pass an `input_shape`/`input_dim` argument to a layer. When using Sequential models, prefer using an `Input(shape)` object as the first layer in the model instead.\n",
      "  super().__init__(activity_regularizer=activity_regularizer, **kwargs)\n",
      "C:\\Users\\HP\\anaconda3\\Lib\\site-packages\\keras\\src\\layers\\activations\\leaky_relu.py:41: UserWarning: Argument `alpha` is deprecated. Use `negative_slope` instead.\n",
      "  warnings.warn(\n"
     ]
    },
    {
     "name": "stdout",
     "output_type": "stream",
     "text": [
      "\u001b[1m179/179\u001b[0m \u001b[32m━━━━━━━━━━━━━━━━━━━━\u001b[0m\u001b[37m\u001b[0m \u001b[1m1s\u001b[0m 4ms/step\n",
      "Activation Function: Leaky ReLU\n",
      "Accuracy: 0.8756\n",
      "              precision    recall  f1-score   support\n",
      "\n",
      "           g       0.87      0.95      0.91      3700\n",
      "           h       0.89      0.73      0.81      2006\n",
      "\n",
      "    accuracy                           0.88      5706\n",
      "   macro avg       0.88      0.84      0.86      5706\n",
      "weighted avg       0.88      0.88      0.87      5706\n",
      "\n",
      "==================================================\n"
     ]
    }
   ],
   "source": [
    " # Use the Magic Gamma Telescope database:\n",
    " # • Apply an ANN with 1 input layer, 2 hidden layers, and 1 output layer.\n",
    " # • Report the performance using various activation functions:\n",
    " # 1. Sigmoid\n",
    " # 2. Tanh\n",
    " # 3. ReLU\n",
    " # 4. Leaky ReLU\n",
    "\n",
    "import numpy as np\n",
    "import pandas as pd\n",
    "from sklearn.model_selection import train_test_split\n",
    "from sklearn.preprocessing import StandardScaler, LabelEncoder\n",
    "from sklearn.metrics import accuracy_score, classification_report\n",
    "import tensorflow as tf\n",
    "from tensorflow.keras.models import Sequential\n",
    "from tensorflow.keras.layers import Dense\n",
    "\n",
    "# Load the Magic Gamma Telescope dataset\n",
    "data_url = \"https://archive.ics.uci.edu/ml/machine-learning-databases/magic/magic04.data\"\n",
    "columns = [\"fLength\", \"fWidth\", \"fSize\", \"fConc\", \"fConc1\", \"fAsym\", \"fM3Long\", \"fM3Trans\", \"fAlpha\", \"fDist\", \"class\"]\n",
    "data = pd.read_csv(data_url, header=None, names=columns)\n",
    "\n",
    "# Encode the target variable ('g' for gamma, 'h' for hadron)\n",
    "label_encoder = LabelEncoder()\n",
    "data['class'] = label_encoder.fit_transform(data['class'])\n",
    "\n",
    "# Split the dataset into features and target\n",
    "X = data.iloc[:, :-1].values\n",
    "y = data.iloc[:, -1].values\n",
    "\n",
    "# Standardize the feature data\n",
    "scaler = StandardScaler()\n",
    "X = scaler.fit_transform(X)\n",
    "\n",
    "# Split into training and test sets\n",
    "X_train, X_test, y_train, y_test = train_test_split(X, y, test_size=0.3, random_state=42, stratify=y)\n",
    "\n",
    "# Function to build, train, and evaluate the model\n",
    "def evaluate_model(activation_function):\n",
    "    # Build the ANN model\n",
    "    model = Sequential([\n",
    "        Dense(64, input_dim=X_train.shape[1], activation=activation_function),\n",
    "        Dense(32, activation=activation_function),\n",
    "        Dense(1, activation='sigmoid')\n",
    "    ])\n",
    "\n",
    "    # Compile the model\n",
    "    model.compile(optimizer='adam', loss='binary_crossentropy', metrics=['accuracy'])\n",
    "\n",
    "    # Train the model\n",
    "    model.fit(X_train, y_train, epochs=10, batch_size=32, verbose=0)\n",
    "\n",
    "    # Evaluate the model on test data\n",
    "    y_pred = (model.predict(X_test) > 0.5).astype(int)\n",
    "    accuracy = accuracy_score(y_test, y_pred)\n",
    "    report = classification_report(y_test, y_pred, target_names=label_encoder.classes_)\n",
    "\n",
    "    print(f\"Activation Function: {activation_function}\")\n",
    "    print(f\"Accuracy: {accuracy:.4f}\")\n",
    "    print(report)\n",
    "    print(\"=\" * 50)\n",
    "\n",
    "# Evaluate the model with different activation functions\n",
    "for activation in ['sigmoid', 'tanh', 'relu', 'leaky_relu']:\n",
    "    if activation == 'leaky_relu':\n",
    "        # Use Leaky ReLU as a layer instead of string\n",
    "        model = Sequential([\n",
    "            Dense(64, input_dim=X_train.shape[1]),\n",
    "            tf.keras.layers.LeakyReLU(alpha=0.01),\n",
    "            Dense(32),\n",
    "            tf.keras.layers.LeakyReLU(alpha=0.01),\n",
    "            Dense(1, activation='sigmoid')\n",
    "        ])\n",
    "        model.compile(optimizer='adam', loss='binary_crossentropy', metrics=['accuracy'])\n",
    "        model.fit(X_train, y_train, epochs=10, batch_size=32, verbose=0)\n",
    "        y_pred = (model.predict(X_test) > 0.5).astype(int)\n",
    "        accuracy = accuracy_score(y_test, y_pred)\n",
    "        report = classification_report(y_test, y_pred, target_names=label_encoder.classes_)\n",
    "\n",
    "        print(f\"Activation Function: Leaky ReLU\")\n",
    "        print(f\"Accuracy: {accuracy:.4f}\")\n",
    "        print(report)\n",
    "        print(\"=\" * 50)\n",
    "    else:\n",
    "        evaluate_model(activation)\n"
   ]
  },
  {
   "cell_type": "code",
   "execution_count": null,
   "id": "a776149d-6d96-4129-be6e-bd3e1c2aff83",
   "metadata": {},
   "outputs": [],
   "source": []
  }
 ],
 "metadata": {
  "kernelspec": {
   "display_name": "Python 3 (ipykernel)",
   "language": "python",
   "name": "python3"
  },
  "language_info": {
   "codemirror_mode": {
    "name": "ipython",
    "version": 3
   },
   "file_extension": ".py",
   "mimetype": "text/x-python",
   "name": "python",
   "nbconvert_exporter": "python",
   "pygments_lexer": "ipython3",
   "version": "3.12.4"
  }
 },
 "nbformat": 4,
 "nbformat_minor": 5
}
