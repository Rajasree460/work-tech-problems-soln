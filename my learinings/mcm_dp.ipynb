{
 "cells": [
  {
   "cell_type": "code",
   "execution_count": 1,
   "id": "c743c115-5990-40fa-8d05-a0e94ec5b947",
   "metadata": {},
   "outputs": [
    {
     "name": "stdin",
     "output_type": "stream",
     "text": [
      "Enter the number of dimensions:  5\n"
     ]
    },
    {
     "name": "stdout",
     "output_type": "stream",
     "text": [
      "Enter dimensions:\n"
     ]
    },
    {
     "name": "stdin",
     "output_type": "stream",
     "text": [
      " 10\n",
      " 100\n",
      " 20\n",
      " 5\n",
      " 80\n"
     ]
    },
    {
     "name": "stdout",
     "output_type": "stream",
     "text": [
      "The dimension array: [10, 100, 20, 5, 80]\n",
      "\n",
      "Matrix M:\n",
      "[0, 0, 0, 0]\n",
      "[20000, 10000, 8000]\n",
      "[15000, 50000]\n",
      "[19000]\n",
      "\n",
      "Matrix S:\n",
      "[1, 2, 3]\n",
      "[1, 3]\n",
      "[3]\n",
      "\n",
      "Optimal Parenthesization:\n",
      "((A1(A2A3))A4)\n",
      "Best possible matrix (Minimum number of)multiplications is 19000\n"
     ]
    }
   ],
   "source": [
    "def PrintMat(m):\n",
    "    for i in m:\n",
    "        print(i)\n",
    "        \n",
    "\n",
    "#optimal parenthesization\n",
    "def PrintOptimalParens(s, i, j):\n",
    "    if i == j:\n",
    "        print(f\"A{i+1}\",end=\"\")   #way to print a mat A1, A2, A3, etc\n",
    "    else:\n",
    "        print(\"(\", end=\"\")     #print function not to move to a new line after printing the output. Instead, it will stay on the same line, allowing subsequent calls to print to continue printing on the same line.\n",
    "        PrintOptimalParens(s, i, s[i][j])\n",
    "        PrintOptimalParens(s, s[i][j] + 1, j)\n",
    "        print(\")\", end=\"\")\n",
    "\n",
    "def MatrixChainMult(p):\n",
    "    n = len(p) - 1\n",
    "    max_val = 999999  #float('inf')\n",
    "    m = [[0 for x in range(n)] for x in range(n)]\n",
    "    S = [[0 for x in range(n)] for x in range(n)]\n",
    "\n",
    "    # m[i, j] = Minimum number of scalar multiplications needed to compute the matrix A[i]A[i+1]...A[j] = A[i..j]\n",
    "    # The cost is zero when multiplying one matrix.\n",
    "    for i in range(0, n):\n",
    "        m[i][i] = 0\n",
    "\n",
    "    # L is the chain length.\n",
    "    for L in range(2, n + 1):\n",
    "        for i in range(0, n - L + 1):\n",
    "            j = i + L - 1\n",
    "            m[i][j] = max_val\n",
    "            for k in range(i, j):\n",
    "                # q = cost / scalar multiplications\n",
    "                q = m[i][k] + m[k + 1][j] + p[i] * p[k + 1] * p[j + 1]\n",
    "                if q < m[i][j]:\n",
    "                    m[i][j] = q\n",
    "                    S[i][j] = k\n",
    "\n",
    "    mp = [[m[i][i] for i in range(0, n)]]\n",
    "    for L in range(1, n):\n",
    "        temp = [m[i][i + L] for i in range(0, n - L)]\n",
    "        mp.append(temp)\n",
    "\n",
    "    print(\"\\nMatrix M:\")\n",
    "    PrintMat(mp)\n",
    "\n",
    "    sp = []\n",
    "    for L in range(1, n):\n",
    "        temp = [(S[i][i + L] + 1) for i in range(0, n - L)]\n",
    "        sp.append(temp)\n",
    "\n",
    "    print(\"\\nMatrix S:\")\n",
    "    PrintMat(sp)\n",
    "\n",
    "    print(\"\\nOptimal Parenthesization:\")\n",
    "    PrintOptimalParens(S, 0, n - 1)   #passing the whole matrix S\n",
    "    print()\n",
    "\n",
    "    return m[0][n - 1]\n",
    "\n",
    "# Main function\n",
    "n1 = int(input(\"Enter the number of dimensions: \"))\n",
    "p = []  # p = dimensions array\n",
    "print(\"Enter dimensions:\")\n",
    "for i in range(n1):\n",
    "    l1 = int(input())\n",
    "    p.append(l1)\n",
    "\n",
    "print(\"The dimension array:\", p)\n",
    "print(\"Best possible matrix (Minimum number of)multiplications is\", MatrixChainMult(p))\n"
   ]
  },
  {
   "cell_type": "code",
   "execution_count": null,
   "id": "ab11377d-9d61-4ebe-af81-1cb4f89cfbac",
   "metadata": {},
   "outputs": [],
   "source": []
  }
 ],
 "metadata": {
  "kernelspec": {
   "display_name": "Python 3 (ipykernel)",
   "language": "python",
   "name": "python3"
  },
  "language_info": {
   "codemirror_mode": {
    "name": "ipython",
    "version": 3
   },
   "file_extension": ".py",
   "mimetype": "text/x-python",
   "name": "python",
   "nbconvert_exporter": "python",
   "pygments_lexer": "ipython3",
   "version": "3.12.4"
  }
 },
 "nbformat": 4,
 "nbformat_minor": 5
}
