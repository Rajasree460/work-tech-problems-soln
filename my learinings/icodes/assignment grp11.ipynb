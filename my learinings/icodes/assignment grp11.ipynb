{
 "cells": [
  {
   "cell_type": "code",
   "execution_count": null,
   "id": "559c071d-129e-4e2d-94dc-a55cee85764e",
   "metadata": {},
   "outputs": [],
   "source": [
    "data=pd.read_csv(\"/content/drive/MyDrive/dataset/processed_thyroid_data.csv\")\n",
    "data\n"
   ]
  },
  {
   "cell_type": "code",
   "execution_count": null,
   "id": "6ba1c4bb-49fb-4cd5-83a9-ec6592bed578",
   "metadata": {},
   "outputs": [],
   "source": [
    "data = data.dropna()\n",
    "data.tail()\n"
   ]
  },
  {
   "cell_type": "code",
   "execution_count": null,
   "id": "5458a806-e9aa-4869-a615-019e73742cf4",
   "metadata": {},
   "outputs": [],
   "source": [
    "#data = data.reset_index(drop=True)\n",
    "data.info()\n"
   ]
  },
  {
   "cell_type": "code",
   "execution_count": null,
   "id": "847c59f0-ad38-4043-b48c-56e9594a34ac",
   "metadata": {},
   "outputs": [],
   "source": [
    "data.isnull().sum()"
   ]
  },
  {
   "cell_type": "code",
   "execution_count": null,
   "id": "72f0a04c-6886-4814-b00f-d60f0c9f2a77",
   "metadata": {},
   "outputs": [],
   "source": [
    "standardScaler = StandardScaler()\n",
    "columns_to_scale = ['age', 'TT4', 'TSH', 'T3','T4U','FTI']\n",
    "data[columns_to_scale] = standardScaler.fit_transform(data[columns_to_scale])\n"
   ]
  },
  {
   "cell_type": "code",
   "execution_count": null,
   "id": "1a964dd2-06c6-41cf-b4f7-9d6f564f646c",
   "metadata": {},
   "outputs": [],
   "source": [
    "\n",
    "y = data[\"binaryClass\"]\n",
    "X = data.drop('binaryClass', axis=1)\n",
    "X_train, X_test, y_train, y_test = train_test_split(X, y, test_size=0.20, random_state=5)\n"
   ]
  },
  {
   "cell_type": "code",
   "execution_count": null,
   "id": "42abbaef-9ab6-4ae5-939b-589a0443f4b2",
   "metadata": {},
   "outputs": [],
   "source": [
    "from sklearn.ensemble import RandomForestClassifier\n",
    "model1=RandomForestClassifier()\n",
    "model1.fit(X_train,y_train)\n"
   ]
  },
  {
   "cell_type": "code",
   "execution_count": null,
   "id": "7a5d9040-13f2-45e4-a273-ee0f59a7eeb8",
   "metadata": {},
   "outputs": [],
   "source": [
    "RandomForestClassifier()"
   ]
  },
  {
   "cell_type": "code",
   "execution_count": null,
   "id": "59114977-cd39-4c99-a4f4-eff1f79060b8",
   "metadata": {},
   "outputs": [],
   "source": [
    "y_predict1=model1.predict(X_test)"
   ]
  },
  {
   "cell_type": "code",
   "execution_count": null,
   "id": "efc57a33-89fc-447c-9a67-00ee21254ec4",
   "metadata": {},
   "outputs": [],
   "source": [
    "v=confusion_matrix(y_test,y_predict1)\n",
    "cm=ConfusionMatrixDisplay(confusion_matrix=v)\n",
    "cm.plot()\n"
   ]
  },
  {
   "cell_type": "code",
   "execution_count": null,
   "id": "74b7ec34-393d-4186-9eb5-a09b321af714",
   "metadata": {},
   "outputs": [],
   "source": [
    "accuracy = accuracy_score(y_test,y_predict1)\n",
    "print(f'Accuracy: {accuracy * 100:.2f}%')\n",
    "precision = precision_score(y_test,y_predict1)\n",
    "print(f'Precision: {precision * 100:.2f}%')\n",
    "recall=recall_score(y_test,y_predict1)\n",
    "print(f'Recall: {recall * 100:.2f}%')\n",
    "f1 = f1_score(y_test, y_predict1, average='binary')\n",
    "print(f'F1 Score: {f1*100:.2f}')\n",
    "\n",
    "tn, fp, fn, tp = confusion_matrix(y_test, y_predict1).ravel()\n",
    "\n",
    "\n",
    "specificity = tn / (tn + fp)\n",
    "print(f'Specificity: {specificity*100:.2f}')\n",
    "\n",
    "fpr = fp / (fp + tn)\n",
    "print(f'False Positive Rate: {fpr*100:.2f}')\n",
    "\n",
    "fnr = fn / (fn + tp)\n",
    "print(f'False Negative Rate: {fnr*100:.2f}')\n"
   ]
  },
  {
   "cell_type": "code",
   "execution_count": null,
   "id": "f103d12e-21bf-4799-b21f-629301ccec41",
   "metadata": {},
   "outputs": [],
   "source": [
    "\n",
    "from sklearn.svm import SVC\n",
    "\n",
    "model2 = SVC(C=30 ,kernel= 'rbf')\n",
    "In [14]:\n",
    "model2.fit(X_train,y_train)\n",
    "y_predict2=model2.predict(X_test)\n"
   ]
  },
  {
   "cell_type": "code",
   "execution_count": null,
   "id": "df78c531-a43b-46ee-ba30-2047ad9336f7",
   "metadata": {},
   "outputs": [],
   "source": [
    "v=confusion_matrix(y_test,y_predict2)\n",
    "cm=ConfusionMatrixDisplay(confusion_matrix=v)\n",
    "cm.plot()\n"
   ]
  },
  {
   "cell_type": "code",
   "execution_count": null,
   "id": "bebcbd7f-380b-418b-9c71-0eae1a99ae0c",
   "metadata": {},
   "outputs": [],
   "source": [
    "accuracy = accuracy_score(y_test,y_predict2)\n",
    "print(f'Accuracy: {accuracy * 100:.2f}%')\n",
    "precision = precision_score(y_test,y_predict2)\n",
    "print(f'Precision: {precision * 100:.2f}%')\n",
    "recall=recall_score(y_test,y_predict2)\n",
    "print(f'Recall: {recall * 100:.2f}%')\n",
    "f1 = f1_score(y_test, y_predict2, average='binary')\n",
    "print(f'F1 Score: {f1*100:.2f}')\n",
    "\n",
    "tn, fp, fn, tp = confusion_matrix(y_test, y_predict2).ravel()\n",
    "\n",
    "specificity = tn / (tn + fp)\n",
    "print(f'Specificity: {specificity*100:.2f}')\n",
    "\n",
    "fpr = fp / (fp + tn)\n",
    "print(f'False Positive Rate: {fpr*100:.2f}')\n",
    "\n",
    "fnr = fn / (fn + tp)\n",
    "print(f'False Negative Rate: {fnr*100:.2f}')\n"
   ]
  },
  {
   "cell_type": "code",
   "execution_count": null,
   "id": "8c23378c-1251-4cb8-b579-d0a131a18682",
   "metadata": {},
   "outputs": [],
   "source": [
    "model3=LogisticRegression(C= 20, penalty= 'l1', solver= 'liblinear')\n",
    "model3.fit(X_train,y_train)\n",
    "y_predict3=model3.predict(X_test)\n"
   ]
  },
  {
   "cell_type": "code",
   "execution_count": null,
   "id": "bb6141c1-6af5-4621-a7cf-24c02f34a8e2",
   "metadata": {},
   "outputs": [],
   "source": [
    "v=confusion_matrix(y_test,y_predict3)\n",
    "cm=ConfusionMatrixDisplay(confusion_matrix=v)\n",
    "cm.plot()\n"
   ]
  },
  {
   "cell_type": "code",
   "execution_count": null,
   "id": "058a4888-2b91-472d-bf39-57c57e7e2a2f",
   "metadata": {},
   "outputs": [],
   "source": [
    "accuracy = accuracy_score(y_test,y_predict3)\n",
    "print(f'Accuracy: {accuracy * 100:.2f}%')\n",
    "precision = precision_score(y_test,y_predict3)\n",
    "print(f'Precision: {precision * 100:.2f}%')\n",
    "recall=recall_score(y_test,y_predict3)\n",
    "print(f'Recall: {recall * 100:.2f}%')\n",
    "f1 = f1_score(y_test, y_predict3, average='binary')\n",
    "print(f'F1 Score: {f1*100:.2f}')\n",
    "\n",
    "tn, fp, fn, tp = confusion_matrix(y_test, y_predict3).ravel()\n",
    "\n",
    "# Calculate specificity\n",
    "specificity = tn / (tn + fp)\n",
    "print(f'Specificity: {specificity*100:.2f}')\n",
    "\n",
    "# Calculate false positive rate (FPR)\n",
    "fpr = fp / (fp + tn)\n",
    "print(f'False Positive Rate: {fpr*100:.2f}')\n",
    "\n",
    "# Calculate false negative rate (FNR)\n",
    "fnr = fn / (fn + tp)\n",
    "print(f'False Negative Rate: {fnr*100:.2f}')\n"
   ]
  },
  {
   "cell_type": "code",
   "execution_count": null,
   "id": "0056b23c-0dd5-4371-94e3-79560ee1679a",
   "metadata": {},
   "outputs": [],
   "source": [
    "model4 = DecisionTreeClassifier()\n",
    "model4.fit(X_train, y_train)\n"
   ]
  },
  {
   "cell_type": "code",
   "execution_count": null,
   "id": "f4122b6a-1a88-4eb2-a4fc-d4fe4d0085fb",
   "metadata": {},
   "outputs": [],
   "source": [
    "DecisionTreeClassifier()"
   ]
  },
  {
   "cell_type": "code",
   "execution_count": null,
   "id": "8a8a3bf4-1616-47fa-a415-c950ea97526b",
   "metadata": {},
   "outputs": [],
   "source": [
    "y_predict4 = model4.predict(X_test)\n",
    "accuracy = accuracy_score(y_test, y_predict4)\n",
    "print(f'Accuracy: {accuracy * 100:.2f}%')\n",
    "precision = precision_score(y_test,y_predict4)\n",
    "print(f'Precision: {precision * 100:.2f}%')\n",
    "recall=recall_score(y_test,y_predict4)\n",
    "print(f'Recall: {recall * 100:.2f}%')\n",
    "f1 = f1_score(y_test, y_predict4, average='binary')\n",
    "print(f'F1 Score: {f1*100:.2f}')\n",
    "\n",
    "tn, fp, fn, tp = confusion_matrix(y_test, y_predict4).ravel()\n",
    "\n",
    "# Calculate specificity\n",
    "specificity = tn / (tn + fp)\n",
    "print(f'Specificity: {specificity*100:.2f}')\n",
    "\n",
    "# Calculate false positive rate (FPR)\n",
    "fpr = fp / (fp + tn)\n",
    "print(f'False Positive Rate: {fpr*100:.2f}')\n",
    "\n",
    "# Calculate false negative rate (FNR)\n",
    "fnr = fn / (fn + tp)\n",
    "print(f'False Negative Rate: {fnr*100:.2f}')\n"
   ]
  },
  {
   "cell_type": "code",
   "execution_count": null,
   "id": "1e15dfc7-ded2-4982-bad2-2f73b4d936bc",
   "metadata": {},
   "outputs": [],
   "source": [
    "from sklearn.neighbors import KNeighborsClassifier"
   ]
  },
  {
   "cell_type": "code",
   "execution_count": null,
   "id": "a628b174-6cdd-4bd3-9b98-c0b86e20a1e6",
   "metadata": {},
   "outputs": [],
   "source": [
    "model5 = KNeighborsClassifier(n_neighbors=3)\n",
    "model5.fit(X_train, y_train)\n"
   ]
  },
  {
   "cell_type": "code",
   "execution_count": null,
   "id": "5ad3eb44-8634-45d4-b6ef-7de82c23216d",
   "metadata": {},
   "outputs": [],
   "source": [
    "KNeighborsClassifier(n_neighbors=3)"
   ]
  },
  {
   "cell_type": "code",
   "execution_count": null,
   "id": "6024d06b-6638-41fa-9f02-a4a0b0f9f16e",
   "metadata": {},
   "outputs": [],
   "source": [
    "y_predict5 = model5.predict(X_test)\n",
    "accuracy = accuracy_score(y_test, y_predict5)\n",
    "print(f'Accuracy: {accuracy * 100:.2f}%')\n",
    "precision = precision_score(y_test,y_predict5)\n",
    "print(f'Precision: {precision * 100:.2f}%')\n",
    "recall=recall_score(y_test,y_predict5)\n",
    "print(f'Recall: {recall * 100:.2f}%')\n",
    "f1 = f1_score(y_test, y_predict5, average='binary')\n",
    "print(f'F1 Score: {f1*100:.2f}')\n",
    "\n",
    "tn, fp, fn, tp = confusion_matrix(y_test, y_predict5).ravel()\n",
    "\n",
    "# Calculate specificity\n",
    "specificity = tn / (tn + fp)\n",
    "print(f'Specificity: {specificity*100:.2f}')\n",
    "\n",
    "# Calculate false positive rate (FPR)\n",
    "fpr = fp / (fp + tn)\n",
    "print(f'False Positive Rate: {fpr*100:.2f}')\n",
    "\n",
    "# Calculate false negative rate (FNR)\n",
    "fnr = fn / (fn + tp)\n",
    "print(f'False Negative Rate: {fnr*100:.2f}')\n"
   ]
  },
  {
   "cell_type": "code",
   "execution_count": null,
   "id": "bbfbcfb8-17a8-403e-980a-fa0f3b6f7434",
   "metadata": {},
   "outputs": [],
   "source": [
    "from sklearn.decomposition import PCA\n",
    "labels_rfc = model1.predict(X_train)\n",
    "labels_svm = model2.predict(X_train)\n",
    "labels_lr = model3.predict(X_train)\n",
    "labels_dtc = model4.predict(X_train)\n",
    "labels_knn = model5.predict(X_train)\n",
    "\n",
    "model_labels = [labels_rfc, labels_svm, labels_lr, labels_dtc, labels_knn]\n",
    "model_names = ['RandomForestClassifier', 'SVM', 'Logistic Regression',  'Decision Tree Classifier','KNN']\n",
    "\n",
    "plt.figure(figsize=(12, 8))\n",
    "pca = PCA(n_components=28)\n",
    "pca_result = pca.fit_transform(X_train)\n",
    "markers = ['o', 's', 'D', '^', 'v']\n",
    "colors = ['b', 'g', 'r', 'c', 'm']\n",
    "for i, (name, labels, marker, color) in enumerate(zip(model_names, model_labels, markers, colors)):\n",
    "  sns.scatterplot(x=pca_result[:, 0], y=pca_result[:, 1], hue=labels, palette='viridis', legend=None, alpha=0.6, marker=marker, edgecolor='w', label=name)\n",
    "plt.title('Clustering Results of All Models')\n",
    "plt.xlabel('Principal Component 1')\n",
    "plt.ylabel('Principal Component 2')\n",
    "plt.legend(title='Models')\n",
    "plt.show()\n"
   ]
  }
 ],
 "metadata": {
  "kernelspec": {
   "display_name": "Python 3 (ipykernel)",
   "language": "python",
   "name": "python3"
  },
  "language_info": {
   "codemirror_mode": {
    "name": "ipython",
    "version": 3
   },
   "file_extension": ".py",
   "mimetype": "text/x-python",
   "name": "python",
   "nbconvert_exporter": "python",
   "pygments_lexer": "ipython3",
   "version": "3.12.4"
  }
 },
 "nbformat": 4,
 "nbformat_minor": 5
}
