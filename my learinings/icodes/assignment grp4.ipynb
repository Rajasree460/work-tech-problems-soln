{
 "cells": [
  {
   "cell_type": "code",
   "execution_count": null,
   "id": "184f17a4-fcbb-4240-842c-f3b90bfe1ef5",
   "metadata": {},
   "outputs": [],
   "source": [
    "import pandas as pd\n",
    "import numpy as np\n",
    "import matplotlib.pyplot as plt\n",
    "import seaborn as sns\n",
    "from sklearn.preprocessing import StandardScaler\n",
    "from sklearn.decomposition import TruncatedSVD\n",
    "from mpl_toolkits.mplot3d import Axes3D\n",
    "from sklearn.model_selection import train_test_split\n",
    "from sklearn.linear_model import LogisticRegression\n",
    "from sklearn.metrics import classification_report, confusion_matrix, accuracy_score\n",
    "data=pd.read_csv(\"C:\\\\Users\\\\SHARIB\\\\Downloads\\\\heart.csv\")\n",
    "data.head()\n"
   ]
  },
  {
   "cell_type": "code",
   "execution_count": null,
   "id": "834a5d67-0b00-4f75-ac3b-6a191b30171c",
   "metadata": {},
   "outputs": [],
   "source": [
    "data.info()"
   ]
  },
  {
   "cell_type": "code",
   "execution_count": null,
   "id": "96103285-d9af-439f-8b55-acdb446f3086",
   "metadata": {},
   "outputs": [],
   "source": [
    "features = data.drop(columns=['target'])\n",
    "target = data['target']\n",
    "\n",
    "scaler = StandardScaler()\n",
    "scaled_features = scaler.fit_transform(features)\n",
    "\n",
    "svd = TruncatedSVD(n_components=5, random_state=42)\n",
    "svd_features = svd.fit_transform(scaled_features)\n",
    "explained_variance = svd.explained_variance_ratio_\n",
    "svd_features_df = pd.DataFrame(svd_features, columns=[f'SVD_Component_{i+1}' for i in range(svd_features.shape[1])])\n",
    "explained_variance, svd_features_df.head()\n"
   ]
  },
  {
   "cell_type": "code",
   "execution_count": null,
   "id": "77104121-12f4-4b3f-ba0f-5d7d331a4f5d",
   "metadata": {},
   "outputs": [],
   "source": [
    "svd = TruncatedSVD(n_components=5)\n",
    "\n",
    "svd.fit(features)\n",
    "\n",
    "singular_values = svd.singular_values_\n",
    "\n",
    "plt.figure(figsize=(12, 5))\n",
    "\n",
    "\n",
    "plt.figure(figsize=(12, 5))\n",
    "plt.subplot(1, 2, 1)\n",
    "sns.barplot(x=np.arange(1, len(singular_values) + 1), y=singular_values)\n",
    "plt.xlabel('Component')\n",
    "plt.ylabel('Singular Value')\n",
    "plt.title('Singular Values of Components')\n",
    "Text(0.5, 1.0, 'Singular Values of Components')\n",
    "<Figure size 1200x500 with 0 Axes>\n"
   ]
  },
  {
   "cell_type": "code",
   "execution_count": null,
   "id": "cf8b2e41-37b2-4dd5-8cf4-01e5d42d3068",
   "metadata": {},
   "outputs": [],
   "source": [
    "plt.subplot(1, 2, 2)\n",
    "sns.barplot(x=np.arange(1, len(explained_variance) + 1), y=explained_variance)\n",
    "plt.xlabel('Component')\n",
    "plt.ylabel('Explained Variance Ratio')\n",
    "plt.title('Explained Variance Ratio of Components')\n",
    "Text(0.5, 1.0, 'Explained Variance Ratio of Components')\n"
   ]
  },
  {
   "cell_type": "code",
   "execution_count": null,
   "id": "186b7c8c-461c-433f-acdd-a700b091adbc",
   "metadata": {},
   "outputs": [],
   "source": [
    "cumulative_explained_ratios = np.cumsum(explained_variance)\n",
    "plt.figure(figsize=(6, 4))\n",
    "sns.lineplot(x=np.arange(1, len(cumulative_explained_variance) + 1),\n",
    "             y=cumulative_explained_variance, marker='o')\n",
    "plt.xlabel('Number of Components')\n",
    "plt.ylabel('Cumulative Explained Variance')\n",
    "plt.title('Cumulative Explained Variance by Components')\n",
    "plt.grid(True)\n",
    "\n",
    "plt.tight_layout()\n",
    "plt.show()\n"
   ]
  },
  {
   "cell_type": "code",
   "execution_count": null,
   "id": "ef88c9b4-9644-4917-b932-6159e5b3b1c4",
   "metadata": {},
   "outputs": [],
   "source": [
    "correlations = pd.DataFrame(np.dot(scaled_features.T, svd_features) / (len(scaled_features) - 1),\n",
    "                            index=features.columns,\n",
    "                            columns=[f'SVD_Component_{i+1}' for i in range(svd_features.shape[1])])\n",
    "\n",
    "correlations\n"
   ]
  },
  {
   "cell_type": "code",
   "execution_count": null,
   "id": "f907cb42-53bf-4704-a370-f86afcfa735c",
   "metadata": {},
   "outputs": [],
   "source": [
    "plt.figure(figsize=(10, 8))\n",
    "sns.scatterplot(x=svd_features[:, 0], y=svd_features[:, 1], hue=target, palette=\"viridis\", edgecolor='k')\n",
    "plt.xlabel('SVD Component 1')\n",
    "plt.ylabel('SVD Component 2')\n",
    "plt.title('Data Visualization in SVD Component Space (Colored by Heart Disease Target)')\n",
    "plt.legend(title=\"Heart Disease Target\", labels=['No Disease', 'Disease'])\n",
    "plt.show()\t\n"
   ]
  },
  {
   "cell_type": "code",
   "execution_count": null,
   "id": "252fbfa0-03dc-40d7-82ef-38b8e5f3ff33",
   "metadata": {},
   "outputs": [],
   "source": [
    "explained_variance = svd.explained_variance_ratio_\n",
    "plt.figure(figsize=(8,6))\n",
    "sns.barplot(x=[f'Component {i+1}' for i in range(len(explained_variance))],\n",
    "            y=explained_variance * 100)\n",
    "plt.ylabel('Explained Variance (%)')\n",
    "plt.xlabel('SVD Components')\n",
    "plt.title('Scree Plot')\n",
    "plt.show()\n"
   ]
  },
  {
   "cell_type": "code",
   "execution_count": null,
   "id": "12e91126-9ea9-453f-a16b-bd812d6bcf92",
   "metadata": {},
   "outputs": [],
   "source": [
    "svd_plot_df = svd_features_df.copy()\n",
    "svd_plot_df['target'] = target\n",
    "plt.figure(figsize=(10,8))\n",
    "sns.scatterplot(data=svd_plot_df,\n",
    "                x='SVD_Component_1',\n",
    "                y='SVD_Component_2',\n",
    "                hue='target',\n",
    "                palette=['blue', 'red'],\n",
    "                alpha=0.6)\n",
    "plt.title('SVD Components 1 vs 2 Colored by Heart Disease Diagnosis')\n",
    "plt.xlabel('SVD Component 1')\n",
    "plt.ylabel('SVD Component 2')\n",
    "plt.legend(title='Heart Disease', labels=['No Disease', 'Disease'])\n",
    "plt.show()\n"
   ]
  },
  {
   "cell_type": "code",
   "execution_count": null,
   "id": "52d05938-6aef-4f9a-89ff-1554677db8e9",
   "metadata": {},
   "outputs": [],
   "source": [
    "fig = plt.figure(figsize=(12,10))\n",
    "ax = fig.add_subplot(111, projection='3d')\n",
    "\n",
    "colors = svd_plot_df['target'].map({0: 'blue', 1: 'red'})\n",
    "\n",
    "ax.scatter(svd_plot_df['SVD_Component_1'],\n",
    "           svd_plot_df['SVD_Component_2'],\n",
    "           svd_plot_df['SVD_Component_3'],\n",
    "           c=colors, alpha=0.6)\n",
    "\n",
    "\n",
    "ax.set_title('3D Scatter Plot of SVD Components Colored by Heart Disease Diagnosis')\n",
    "ax.set_xlabel('SVD Component 1')\n",
    "ax.set_ylabel('SVD Component 2')\n",
    "ax.set_zlabel('SVD Component 3')\n",
    "\n",
    "from matplotlib.lines import Line2D\n",
    "legend_elements = [Line2D([0], [0], marker='o', color='w', label='No Disease',\n",
    "                          markerfacecolor='blue', markersize=10),\n",
    "                   Line2D([0], [0], marker='o', color='w', label='Disease',\n",
    "                          markerfacecolor='red', markersize=10)]\n",
    "ax.legend(handles=legend_elements, title='Heart Disease')\n",
    "\n",
    "plt.show()\n"
   ]
  },
  {
   "cell_type": "code",
   "execution_count": null,
   "id": "6fcd5220-966f-48f8-ac3b-3eb00b1aa8eb",
   "metadata": {},
   "outputs": [],
   "source": [
    "melted_df = svd_plot_df.melt(id_vars='target',\n",
    "                             value_vars=[f'SVD_Component_{i+1}' for i in range(svd.n_components)], # Use svd.n_components\n",
    "                             var_name='SVD_Component',\n",
    "                             value_name='Value')\n",
    "plt.figure(figsize=(14,10))\n",
    "sns.boxplot(x='SVD_Component', y='Value', hue='target', data=melted_df, palette='Set2')\n",
    "plt.title('Distribution of SVD Components by Heart Disease Diagnosis')\n",
    "plt.xlabel('SVD Components')\n",
    "plt.ylabel('Component Values')\n",
    "plt.legend(title='Heart Disease', labels=['No Disease', 'Disease'])\n",
    "plt.show()\n"
   ]
  },
  {
   "cell_type": "code",
   "execution_count": null,
   "id": "8d593978-4402-4dd1-a7cb-e309d72c6341",
   "metadata": {},
   "outputs": [],
   "source": [
    "X_train, X_test, y_train, y_test = train_test_split(svd_features_df, target,\n",
    "                                                    test_size=0.2,\n",
    "                                                    random_state=42,\n",
    "                                                    stratify=target)\n",
    "\n",
    "# Initialize and train the model\n",
    "model = LogisticRegression(max_iter=1000, random_state=42)\n",
    "model.fit(X_train, y_train)\n",
    "\n",
    "# Predictions\n",
    "y_pred = model.predict(X_test)\n",
    "\n",
    "# Confusion matrix\n",
    "cm = confusion_matrix(y_test, y_pred)\n",
    "\n",
    "# Plot confusion matrix as heatmap\n",
    "plt.figure(figsize=(8,6))\n",
    "sns.heatmap(cm, annot=True, fmt=\"d\", cmap=\"Blues\", cbar=False,\n",
    "            xticklabels=[\"No Disease\", \"Disease\"],\n",
    "            yticklabels=[\"No Disease\", \"Disease\"])\n",
    "plt.xlabel(\"Predicted Labels\")\n",
    "plt.ylabel(\"True Labels\")\n",
    "plt.title(\"Confusion Matrix of Heart Disease Classification\")\n",
    "plt.show()\n"
   ]
  },
  {
   "cell_type": "code",
   "execution_count": null,
   "id": "1c736cbd-2334-4515-8385-0c1aa251a9be",
   "metadata": {},
   "outputs": [],
   "source": [
    "report = classification_report(y_test, y_pred, target_names=[\"No Disease\", \"Disease\"], output_dict=True)\n",
    "\n",
    "report_df = pd.DataFrame(report).transpose()\n",
    "\n",
    "report_df = report_df.round(2)\n",
    "\n",
    "report_df = report_df.rename(columns={\n",
    "    \"precision\": \"Precision\",\n",
    "    \"recall\": \"Recall\",\n",
    "    \"f1-score\": \"F1-Score\",\n",
    "    \"support\": \"Support\"\n",
    "})\n",
    "print(\"Classification Report:\")\n",
    "print(report_df)\n",
    "print(f\"\\nOverall Accuracy:{accuracy_score(y_test, y_pred):.2f}\")\n"
   ]
  }
 ],
 "metadata": {
  "kernelspec": {
   "display_name": "Python 3 (ipykernel)",
   "language": "python",
   "name": "python3"
  },
  "language_info": {
   "codemirror_mode": {
    "name": "ipython",
    "version": 3
   },
   "file_extension": ".py",
   "mimetype": "text/x-python",
   "name": "python",
   "nbconvert_exporter": "python",
   "pygments_lexer": "ipython3",
   "version": "3.12.4"
  }
 },
 "nbformat": 4,
 "nbformat_minor": 5
}
