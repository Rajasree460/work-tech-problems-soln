{
 "cells": [
  {
   "cell_type": "code",
   "execution_count": null,
   "id": "a69b69c3-97e7-4edb-95ce-6967f1514d76",
   "metadata": {},
   "outputs": [],
   "source": [
    "#unzip dataset\n",
    "import zipfile zip_ref =zipfile.ZipFile(\"/content/archive (8).zip\",'r') zip_ref.extractall('/content') zip_ref.close()\n",
    "\n",
    "import pandas as pd \n",
    "import train_test_split from sklearn.linear_model \n",
    "import LogisticRegression from sklearn.metrics import accuracy_score, classification_report\n",
    "df=pd.read_csv(\"heart.csv\") \n",
    "df\n"
   ]
  },
  {
   "cell_type": "code",
   "execution_count": null,
   "id": "2b621f6a-cb28-4628-b740-ec090033dd66",
   "metadata": {},
   "outputs": [],
   "source": [
    "no_samples = len(df) no_samples"
   ]
  },
  {
   "cell_type": "code",
   "execution_count": null,
   "id": "f9a2311d-aa79-46cc-a5fa-5669dceec314",
   "metadata": {},
   "outputs": [],
   "source": [
    "num_classes = df['target'].nunique() print(\"Number of classes:\", num_classes)"
   ]
  },
  {
   "cell_type": "code",
   "execution_count": null,
   "id": "6a52a228-f18a-42e3-86c4-6379bf612a60",
   "metadata": {},
   "outputs": [],
   "source": [
    "df.info()"
   ]
  },
  {
   "cell_type": "code",
   "execution_count": null,
   "id": "07f955c9-2845-4c90-8f37-21498a287e4a",
   "metadata": {},
   "outputs": [],
   "source": [
    "df.shape"
   ]
  },
  {
   "cell_type": "code",
   "execution_count": null,
   "id": "545a0fe1-0996-49b6-9c7d-2a55aa86084b",
   "metadata": {},
   "outputs": [],
   "source": [
    "df.isnull().sum()"
   ]
  },
  {
   "cell_type": "code",
   "execution_count": null,
   "id": "3e1d15ca-cc4d-49ed-82a3-bc77c9e57640",
   "metadata": {},
   "outputs": [],
   "source": [
    "X= df.drop('target',axis=1) #feature(x) y=df['target']  #labely\n",
    "X\n"
   ]
  },
  {
   "cell_type": "code",
   "execution_count": null,
   "id": "54988e19-ff6a-4d28-8cd5-26cbdd039889",
   "metadata": {},
   "outputs": [],
   "source": [
    "y"
   ]
  },
  {
   "cell_type": "code",
   "execution_count": null,
   "id": "9eb553e3-7ce0-448d-8072-0d2e0071e2a0",
   "metadata": {},
   "outputs": [],
   "source": [
    "# Split the data into 50% training and 50% testing\n",
    "X_train, X_test, y_train, y_test = train_test_split(X, y, test_size=0.5, random_state=40)\n"
   ]
  },
  {
   "cell_type": "code",
   "execution_count": null,
   "id": "bfdb56ab-daeb-4545-b557-b2d1eac9603a",
   "metadata": {},
   "outputs": [],
   "source": [
    "# Initialize and train the classifier\n",
    "from sklearn.ensemble import RandomForestClassifier model = RandomForestClassifier(random_state=42) model.fit(X_train, y_train)\n",
    "# Make predictions\n",
    "y_pred = model.predict(X_test)\n",
    "# Evaluate the model \n",
    "accuracy = accuracy_score(y_test, y_pred) report = classification_report(y_test, y_pred)\n",
    "print(f'Accuracy: {accuracy:.2f}') print('Classification Report:') print(report)\n"
   ]
  },
  {
   "cell_type": "code",
   "execution_count": null,
   "id": "79f0149c-ce95-4dbf-88ac-fbeca92fccf4",
   "metadata": {},
   "outputs": [],
   "source": [
    "from sklearn.preprocessing import MinMaxScaler, StandardScaler, Normalizer\n",
    "# Min-Max Scaling \n",
    "min_max_scaler = MinMaxScaler()\n",
    "X_train_minmax = min_max_scaler.fit_transform(X_train)\n",
    "X_test_minmax = min_max_scaler.transform(X_test)\n",
    "# Train Random Forest with Min-Max scaled data rf_model_minmax = RandomForestClassifier(random_state=42) rf_model_minmax.fit(X_train_minmax, y_train) y_pred_minmax = rf_model_minmax.predict(X_test_minmax)\n",
    "# Evaluate Min-Max Random Forest\n",
    " accuracy_minmax = accuracy_score(y_test, y_pred_minmax) report_minmax = classification_report(y_test, y_pred_minmax)\n",
    "print(\"Min-Max Scaling:\") print(f'Accuracy: {accuracy_minmax:.2f}') print('Classification Report:') print(report_minmax)\n"
   ]
  },
  {
   "cell_type": "code",
   "execution_count": null,
   "id": "0d08081f-e9b7-4398-98d6-3fef9589a14f",
   "metadata": {},
   "outputs": [],
   "source": [
    "standard_scaler = StandardScaler()\n",
    "X_train_standard = standard_scaler.fit_transform(X_train)\n",
    "X_test_standard = standard_scaler.transform(X_test)\n",
    "# Train Random Forest with Z-score standardized data rf_model_standard = RandomForestClassifier(random_state=42) rf_model_standard.fit(X_train_standard, y_train) y_pred_standard = rf_model_standard.predict(X_test_standard)\n",
    "# Evaluate Z-score Random Forest\n",
    " accuracy_standard=accuracy_score(y_test,y_pred_standard) \n",
    "report_standard=classification_report(y_test,y_pred_standard)\n",
    "print(\"\\nZ-score Standardization:\") print(f'Accuracy: {accuracy_standard:.2f}') print('Classification Report:') print(report_standard)\n"
   ]
  }
 ],
 "metadata": {
  "kernelspec": {
   "display_name": "Python 3 (ipykernel)",
   "language": "python",
   "name": "python3"
  },
  "language_info": {
   "codemirror_mode": {
    "name": "ipython",
    "version": 3
   },
   "file_extension": ".py",
   "mimetype": "text/x-python",
   "name": "python",
   "nbconvert_exporter": "python",
   "pygments_lexer": "ipython3",
   "version": "3.12.4"
  }
 },
 "nbformat": 4,
 "nbformat_minor": 5
}
