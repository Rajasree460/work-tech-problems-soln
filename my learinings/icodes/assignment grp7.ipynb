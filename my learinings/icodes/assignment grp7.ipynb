{
 "cells": [
  {
   "cell_type": "code",
   "execution_count": null,
   "id": "c18b096a-aff0-4d9f-bbfd-701f61a52e29",
   "metadata": {},
   "outputs": [],
   "source": [
    "# Import necessary libraries\n",
    "from sklearn import datasets\n",
    "from sklearn.model_selection import train_test_split\n",
    "from sklearn.svm import SVC\n",
    "from sklearn.metrics import f1_score\n",
    "import pandas as pd\n",
    "\n",
    "# Load the dataset\n",
    "digits = datasets.load_digits()\n",
    "X, y = digits.data, digits.target\n",
    "\n",
    "# Split the data into training and testing sets\n",
    "X_train, X_test, y_train, y_test = train_test_split(X, y, test_size=0.3, random_state=42)\n",
    "\n",
    "# Define kernel types and C (learning_rate) values\n",
    "kernels = ['linear', 'poly', 'rbf']\n",
    "C_values = [0.1, 0.3, 0.5]\n",
    "results = []\n",
    "\n",
    "# Train and evaluate the model for each kernel and C value\n",
    "for kernel in kernels:\n",
    "    for C in C_values:\n",
    "        svm = SVC(kernel=kernel, C=C)\n",
    "        svm.fit(X_train, y_train)\n",
    "        \n",
    "        # Predict and evaluate the model\n",
    "        y_pred = svm.predict(X_test)\n",
    "        f1 = f1_score(y_test, y_pred, average='weighted')\n",
    "        \n",
    "        # Append results\n",
    "        results.append({'Nature': kernel, 'Learning_rate': C, 'F1_score': f1})\n",
    "\n",
    "# Create a DataFrame to display results in tabular format\n",
    "results_df = pd.DataFrame(results)\n",
    "print(results_df)\n"
   ]
  }
 ],
 "metadata": {
  "kernelspec": {
   "display_name": "Python 3 (ipykernel)",
   "language": "python",
   "name": "python3"
  },
  "language_info": {
   "codemirror_mode": {
    "name": "ipython",
    "version": 3
   },
   "file_extension": ".py",
   "mimetype": "text/x-python",
   "name": "python",
   "nbconvert_exporter": "python",
   "pygments_lexer": "ipython3",
   "version": "3.12.4"
  }
 },
 "nbformat": 4,
 "nbformat_minor": 5
}
